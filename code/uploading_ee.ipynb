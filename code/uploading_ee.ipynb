{
 "cells": [
  {
   "cell_type": "code",
   "execution_count": null,
   "id": "48a54c2e",
   "metadata": {
    "vscode": {
     "languageId": "plaintext"
    }
   },
   "outputs": [],
   "source": [
    "import json\n",
    "import re\n",
    "from pathlib import Path\n",
    "from sentence_transformers import SentenceTransformer\n",
    "from pinecone import Pinecone\n",
    "from dotenv import load_dotenv\n",
    "import os"
   ]
  },
  {
   "cell_type": "code",
   "execution_count": null,
   "id": "22ae7e3f",
   "metadata": {
    "vscode": {
     "languageId": "plaintext"
    }
   },
   "outputs": [],
   "source": [
    "load_dotenv()\n",
    "PINECONE_API_KEY = os.getenv(\"PINECONE_API_KEY\")\n",
    "\n",
    "INPUT_FILE = r\"/home/logan78/rag_one_iitp/departmental/EEE.json\"\n",
    "OUTPUT_FILE = \"EE_department_indexed2.json\"\n",
    "BATCH_SIZE = 100  \n",
    "\n",
    "\n",
    "pc = Pinecone(api_key=PINECONE_API_KEY)\n",
    "index = pc.Index(\"rag-iitpatna-test2\")  \n"
   ]
  },
  {
   "cell_type": "code",
   "execution_count": null,
   "id": "cddd49aa",
   "metadata": {
    "vscode": {
     "languageId": "plaintext"
    }
   },
   "outputs": [],
   "source": [
    "model = SentenceTransformer(\"intfloat/e5-large-v2\")"
   ]
  },
  {
   "cell_type": "code",
   "execution_count": null,
   "id": "8aa598ac",
   "metadata": {
    "vscode": {
     "languageId": "plaintext"
    }
   },
   "outputs": [],
   "source": [
    "def entry_to_text(entry: dict, department: str, entry_type: str) -> str:\n",
    "    \"\"\"Convert JSON entry dict into a single text string for embedding & storage\"\"\"\n",
    "    text_parts = [f\"Department: {department}\", f\"Category: {entry_type}\"]\n",
    "    for k, v in entry.items():\n",
    "        if v and v != \"-\":\n",
    "            text_parts.append(f\"{k}: {v}\")\n",
    "    return \", \".join(text_parts)\n",
    "\n",
    "def make_id(prefix: str, name: str) -> str:\n",
    "    \"\"\"Create a stable ID\"\"\"\n",
    "    return f\"EE-{prefix}-{re.sub(r'[^a-zA-Z0-9]+', '-', name)}\"\n",
    "\n",
    "def get_embedding(text: str):\n",
    "    \"\"\"Get normalized embedding\"\"\"\n",
    "    return model.encode(text, normalize_embeddings=True).tolist()\n",
    "\n",
    "with open(INPUT_FILE, \"r\", encoding=\"utf-8\") as f:\n",
    "    data = json.load(f)\n",
    "\n",
    "department_name = data.get(\"department_name\", \"Unknown\")  \n",
    "\n",
    "local_storage = {\"faculty\": [], \"staff\": [], \"labs\": []}\n",
    "\n",
    "def process_entries(entries, entry_type):\n",
    "    batch = []\n",
    "    batch_count = 1  \n",
    "    for i, item in enumerate(entries, start=1):\n",
    "        text = entry_to_text(item, department_name, entry_type)  \n",
    "        embedding = get_embedding(text)\n",
    "        doc_id = make_id(entry_type, item.get(\"Name\", item.get(\"Laboratory & Offices\", \"unknown\")))\n",
    "\n",
    "        record = {\n",
    "            \"id\": doc_id,\n",
    "            \"values\": embedding,\n",
    "            \"metadata\": {\n",
    "                \"text\": text,   \n",
    "                \"department\": department_name,\n",
    "                \"type\": entry_type,\n",
    "                \"batch\": f\"{entry_type}_{batch_count}\",\n",
    "                **item\n",
    "            }\n",
    "        }\n",
    "\n",
    "        batch.append(record)\n",
    "        local_storage[entry_type].append(record)\n",
    "\n",
    "        \n",
    "        if len(batch) >= BATCH_SIZE:\n",
    "            index.upsert(batch)\n",
    "            batch = []\n",
    "            batch_count += 1\n",
    "\n",
    "    \n",
    "    if batch:\n",
    "        index.upsert(batch)"
   ]
  },
  {
   "cell_type": "code",
   "execution_count": null,
   "id": "e91c4def",
   "metadata": {
    "vscode": {
     "languageId": "plaintext"
    }
   },
   "outputs": [],
   "source": [
    "with open(INPUT_FILE, \"r\", encoding=\"utf-8\") as f:\n",
    "    data = json.load(f)\n",
    "\n",
    "\n",
    "local_storage = {\"faculty\": [], \"staff\": [], \"labs\": []}"
   ]
  },
  {
   "cell_type": "code",
   "execution_count": null,
   "id": "e60a13f4",
   "metadata": {
    "vscode": {
     "languageId": "plaintext"
    }
   },
   "outputs": [],
   "source": [
    "def process_entries(entries, entry_type):\n",
    "    batch = []\n",
    "    batch_count = 1  # start batch numbering\n",
    "    for i, item in enumerate(entries, start=1):\n",
    "        \n",
    "        text = entry_to_text(item, department_name, entry_type)  \n",
    "        embedding = get_embedding(text)\n",
    "        doc_id = make_id(entry_type, item.get(\"Name\", item.get(\"Laboratory & Offices\", \"unknown\")))\n",
    "\n",
    "        record = {\n",
    "            \"id\": doc_id,\n",
    "            \"values\": embedding,\n",
    "            \"metadata\": {\n",
    "                \"text\": text,\n",
    "                \"department\": department_name,\n",
    "                \"type\": entry_type,\n",
    "                \"batch\": f\"{entry_type}_{batch_count}\",\n",
    "                **item\n",
    "            }\n",
    "        }\n",
    "\n",
    "        batch.append(record)\n",
    "        local_storage[entry_type].append(record)\n",
    "\n",
    "        if len(batch) >= BATCH_SIZE:\n",
    "            index.upsert(batch)\n",
    "            batch = []\n",
    "            batch_count += 1\n",
    "\n",
    "    if batch:\n",
    "        index.upsert(batch)\n"
   ]
  },
  {
   "cell_type": "code",
   "execution_count": null,
   "id": "800f813b",
   "metadata": {
    "vscode": {
     "languageId": "plaintext"
    }
   },
   "outputs": [],
   "source": [
    "process_entries(data.get(\"faculty\", []), \"faculty\")\n",
    "process_entries(data.get(\"staff\", []), \"staff\")\n",
    "process_entries(data.get(\"labs\", []), \"labs\")\n",
    "Path(OUTPUT_FILE).write_text(json.dumps(local_storage, indent=2), encoding=\"utf-8\")\n",
    "print(f\" Uploaded {OUTPUT_FILE}\")"
   ]
  }
 ],
 "metadata": {
  "language_info": {
   "name": "python"
  }
 },
 "nbformat": 4,
 "nbformat_minor": 5
}
